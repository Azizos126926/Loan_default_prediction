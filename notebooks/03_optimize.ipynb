{
 "cells": [
  {
   "cell_type": "code",
   "execution_count": 2,
   "id": "13e58337-d541-45a2-a2df-fc75a22bf852",
   "metadata": {},
   "outputs": [
    {
     "name": "stdout",
     "output_type": "stream",
     "text": [
      "Balanced dataset shape: (47444, 23)\n",
      "   Age  Income  LoanAmount  CreditScore  MonthsEmployed  NumCreditLines  \\\n",
      "0   20   99464      248557          318              74               3   \n",
      "1   32   20755      222550          404              75               1   \n",
      "\n",
      "   InterestRate  LoanTerm  DTIRatio  Education  ...  MaritalStatus_Married  \\\n",
      "0         19.45        60      0.45          1  ...                  False   \n",
      "1         15.17        24      0.85          0  ...                  False   \n",
      "\n",
      "   MaritalStatus_Single  HasMortgage_Yes  HasDependents_Yes  \\\n",
      "0                 False            False              False   \n",
      "1                 False            False              False   \n",
      "\n",
      "   LoanPurpose_Business  LoanPurpose_Education  LoanPurpose_Home  \\\n",
      "0                 False                  False             False   \n",
      "1                  True                  False             False   \n",
      "\n",
      "   LoanPurpose_Other  HasCoSigner_Yes  Default  \n",
      "0              False             True        1  \n",
      "1              False            False        1  \n",
      "\n",
      "[2 rows x 23 columns]\n"
     ]
    }
   ],
   "source": [
    "import pandas as pd\n",
    "\n",
    "# Load training data\n",
    "X_train = pd.read_csv(\"../data/train/X_train.csv\")\n",
    "y_train = pd.read_csv(\"../data/train/y_train.csv\")\n",
    "\n",
    "# Load test data\n",
    "X_test = pd.read_csv(\"../data/test/X_test.csv\")\n",
    "y_test = pd.read_csv(\"../data/test/y_test.csv\")\n",
    "\n",
    "# Convert y_train and y_test to Series if needed\n",
    "y_train = y_train.squeeze()\n",
    "y_test = y_test.squeeze()\n",
    "\n",
    "# Combine X and y for train set\n",
    "df_train = pd.concat([X_train, y_train], axis=1)\n",
    "\n",
    "# Separate majority and minority classes (assuming 1 = default, 0 = no default)\n",
    "df_A = df_train[df_train[\"Default\"] == 1]  # All default cases\n",
    "df_B = df_train[df_train[\"Default\"] == 0].sample(df_A.shape[0], random_state=23)  # Sample equal non-default cases\n",
    "\n",
    "# Concatenate to create a balanced dataset\n",
    "df_balanced = pd.concat([df_A, df_B], axis=0, ignore_index=True)\n",
    "\n",
    "# Check new dataset shape\n",
    "print(\"Balanced dataset shape:\", df_balanced.shape)\n",
    "print(df_balanced.head(2))\n"
   ]
  },
  {
   "cell_type": "code",
   "execution_count": 12,
   "id": "7cc4b575-196d-407b-89db-1f3318d578a2",
   "metadata": {},
   "outputs": [
    {
     "name": "stdout",
     "output_type": "stream",
     "text": [
      "Classification Report :\n",
      "              precision    recall  f1-score   support\n",
      "\n",
      "           0       0.95      0.68      0.79     45139\n",
      "           1       0.22      0.70      0.34      5931\n",
      "\n",
      "    accuracy                           0.68     51070\n",
      "   macro avg       0.58      0.69      0.57     51070\n",
      "weighted avg       0.86      0.68      0.74     51070\n",
      "\n"
     ]
    }
   ],
   "source": [
    "import pandas as pd\n",
    "import xgboost as xgb\n",
    "from sklearn.preprocessing import StandardScaler\n",
    "from sklearn.decomposition import PCA\n",
    "from sklearn.model_selection import cross_val_score, KFold\n",
    "from sklearn.metrics import classification_report\n",
    "\n",
    "# Load training data\n",
    "X_train = pd.read_csv(\"../data/train/X_train.csv\")\n",
    "y_train = pd.read_csv(\"../data/train/y_train.csv\")\n",
    "\n",
    "# Load test data\n",
    "X_test = pd.read_csv(\"../data/test/X_test.csv\")\n",
    "y_test = pd.read_csv(\"../data/test/y_test.csv\")\n",
    "\n",
    "# Convert y_train and y_test to Series if needed\n",
    "y_train = y_train.squeeze()\n",
    "y_test = y_test.squeeze()\n",
    "\n",
    "# Merge X_train and y_train to create a single DataFrame\n",
    "df_train = pd.concat([X_train, y_train], axis=1)\n",
    "\n",
    "# Separate classes\n",
    "df_A = df_train[df_train[\"Default\"] == 1]  # All default cases\n",
    "df_B = df_train[df_train[\"Default\"] == 0].sample(df_A.shape[0], random_state=23)  # Sample equal non-default cases\n",
    "\n",
    "# Concatenate to create a balanced dataset\n",
    "df_balanced = pd.concat([df_A, df_B], axis=0, ignore_index=True)\n",
    "\n",
    "# **Ensure X_train and X_test have the same feature columns**\n",
    "common_features = X_train.columns.intersection(X_test.columns)\n",
    "\n",
    "# Select only these common features\n",
    "X_train_balanced = df_balanced[common_features]\n",
    "y_train_balanced = df_balanced[\"Default\"]\n",
    "\n",
    "X_test = X_test[common_features]  # Ensure test set has the same features\n",
    "\n",
    "# **Scaling**\n",
    "sc_exp = StandardScaler()\n",
    "X_train_balanced = sc_exp.fit_transform(X_train_balanced)\n",
    "X_test = sc_exp.transform(X_test)\n",
    "\n",
    "# **PCA (Ensure consistent feature count)**\n",
    "pca = PCA(n_components=min(X_train_balanced.shape[1], 22))  # Use the lower of the two\n",
    "X_train_balanced = pca.fit_transform(X_train_balanced)\n",
    "X_test = pca.transform(X_test)\n",
    "\n",
    "# **XGBoost Classifier**\n",
    "params = {\n",
    "    'objective': 'binary:logistic',  \n",
    "    'eval_metric': 'logloss',       \n",
    "    'max_depth': 3,                    \n",
    "    'learning_rate': 0.1,         \n",
    "    'n_estimators': 100              \n",
    "}\n",
    "xgb_classifier = xgb.XGBClassifier(**params)\n",
    "\n",
    "# **Cross-validation**\n",
    "kf = KFold(n_splits=5, shuffle=True, random_state=42)\n",
    "xgb_cv_scores = cross_val_score(xgb_classifier, X_train_balanced, y_train_balanced, cv=kf, scoring=\"accuracy\")\n",
    "\n",
    "# **Fitting the model**\n",
    "xgb_classifier.fit(X_train_balanced, y_train_balanced)\n",
    "\n",
    "# **Predictions**\n",
    "xgb_prediction_exp = xgb_classifier.predict(X_test)\n",
    "\n",
    "# **Evaluation Metrics**\n",
    "print(\"Classification Report :\")\n",
    "print(classification_report(y_test, xgb_prediction_exp))\n"
   ]
  },
  {
   "cell_type": "code",
   "execution_count": 5,
   "id": "bd4ff823-d517-4adf-86b6-e7680113017f",
   "metadata": {},
   "outputs": [
    {
     "name": "stdout",
     "output_type": "stream",
     "text": [
      "Accuracy: 0.6728\n",
      "              precision    recall  f1-score   support\n",
      "\n",
      "           0       0.94      0.68      0.78     45139\n",
      "           1       0.21      0.65      0.32      5931\n",
      "\n",
      "    accuracy                           0.67     51070\n",
      "   macro avg       0.57      0.66      0.55     51070\n",
      "weighted avg       0.85      0.67      0.73     51070\n",
      "\n"
     ]
    },
    {
     "name": "stderr",
     "output_type": "stream",
     "text": [
      "C:\\Users\\azizk\\AppData\\Local\\Programs\\Python\\Python313\\Lib\\site-packages\\sklearn\\linear_model\\_logistic.py:465: ConvergenceWarning: lbfgs failed to converge (status=1):\n",
      "STOP: TOTAL NO. OF ITERATIONS REACHED LIMIT.\n",
      "\n",
      "Increase the number of iterations (max_iter) or scale the data as shown in:\n",
      "    https://scikit-learn.org/stable/modules/preprocessing.html\n",
      "Please also refer to the documentation for alternative solver options:\n",
      "    https://scikit-learn.org/stable/modules/linear_model.html#logistic-regression\n",
      "  n_iter_i = _check_optimize_result(\n"
     ]
    }
   ],
   "source": [
    "# Train logistic regression model\n",
    "model = LogisticRegression()\n",
    "model.fit(X_train_balanced, y_train_balanced)\n",
    "\n",
    "# Predictions\n",
    "y_pred = model.predict(X_test)\n",
    "\n",
    "# Evaluate model\n",
    "accuracy_logReg = accuracy_score(y_test, y_pred)\n",
    "print(f\"Accuracy: {accuracy_logReg:.4f}\")\n",
    "print(classification_report(y_test, y_pred))"
   ]
  },
  {
   "cell_type": "code",
   "execution_count": 6,
   "id": "24628515-8a4d-42e7-a512-c6a0c3800940",
   "metadata": {},
   "outputs": [
    {
     "name": "stdout",
     "output_type": "stream",
     "text": [
      "Accuracy: 0.6728\n",
      "              precision    recall  f1-score   support\n",
      "\n",
      "           0       0.94      0.68      0.78     45139\n",
      "           1       0.21      0.65      0.32      5931\n",
      "\n",
      "    accuracy                           0.67     51070\n",
      "   macro avg       0.57      0.66      0.55     51070\n",
      "weighted avg       0.85      0.67      0.73     51070\n",
      "\n"
     ]
    },
    {
     "name": "stderr",
     "output_type": "stream",
     "text": [
      "C:\\Users\\azizk\\AppData\\Local\\Programs\\Python\\Python313\\Lib\\site-packages\\sklearn\\linear_model\\_logistic.py:465: ConvergenceWarning: lbfgs failed to converge (status=1):\n",
      "STOP: TOTAL NO. OF ITERATIONS REACHED LIMIT.\n",
      "\n",
      "Increase the number of iterations (max_iter) or scale the data as shown in:\n",
      "    https://scikit-learn.org/stable/modules/preprocessing.html\n",
      "Please also refer to the documentation for alternative solver options:\n",
      "    https://scikit-learn.org/stable/modules/linear_model.html#logistic-regression\n",
      "  n_iter_i = _check_optimize_result(\n"
     ]
    }
   ],
   "source": [
    "# Train model with balanced class weights\n",
    "clf = LogisticRegression(class_weight='balanced', random_state=42)\n",
    "clf.fit(X_train_balanced, y_train_balanced)\n",
    "\n",
    "# Evaluate\n",
    "y_pred = clf.predict(X_test)\n",
    "# Evaluate model\n",
    "accuracy_logRegopt = accuracy_score(y_test, y_pred)\n",
    "print(f\"Accuracy: {accuracy_logRegopt:.4f}\")\n",
    "print(classification_report(y_test, y_pred))"
   ]
  },
  {
   "cell_type": "code",
   "execution_count": null,
   "id": "18233a6b-376f-41d8-90f3-8b42e4a0d505",
   "metadata": {},
   "outputs": [],
   "source": []
  }
 ],
 "metadata": {
  "kernelspec": {
   "display_name": "Python 3 (ipykernel)",
   "language": "python",
   "name": "python3"
  },
  "language_info": {
   "codemirror_mode": {
    "name": "ipython",
    "version": 3
   },
   "file_extension": ".py",
   "mimetype": "text/x-python",
   "name": "python",
   "nbconvert_exporter": "python",
   "pygments_lexer": "ipython3",
   "version": "3.13.0"
  }
 },
 "nbformat": 4,
 "nbformat_minor": 5
}
